{
 "cells": [
  {
   "cell_type": "code",
   "execution_count": 3,
   "id": "9a2852a1",
   "metadata": {},
   "outputs": [
    {
     "data": {
      "text/plain": [
       "<PyQt5.QtCore.QMetaObject.Connection at 0x1d98c1d3f40>"
      ]
     },
     "execution_count": 3,
     "metadata": {},
     "output_type": "execute_result"
    }
   ],
   "source": [
    "import sys\n",
    "from PyQt5.QtWidgets import *\n",
    "from PyQt5.QtGui import QPixmap #for Qpixmap that is for images \n",
    "app = QApplication(sys.argv)\n",
    "window = QWidget()\n",
    "item1 = QWidget()\n",
    "\n",
    "def click():\n",
    "    QMessageBox.information(window,\"button clicked\",\"the button is clicked\")\n",
    "\n",
    "def add_to_cart():\n",
    "    QMessageBox.question(window,\"button clicked\",\"Do you want to add this item to cart\")\n",
    "    \n",
    "window.setWindowTitle(\"Simple Window\")\n",
    "window.setGeometry(500,500,500,500)\n",
    "\n",
    "image_label = QLabel()\n",
    "image= QPixmap(r\"C:\\Users\\mahnoor\\Pictures\\Saved Pictures\\download (1).jpg\")\n",
    "image_label.setPixmap(image)\n",
    "image_label.setScaledContents(True)\n",
    "\n",
    "price_button = QPushButton(\"99$\")\n",
    "price_button.clicked.connect(add_to_cart)\n",
    "\n",
    "layout1=QVBoxLayout()\n",
    "layout1.addWidget(image_label)\n",
    "layout1.addWidget(price_button)\n",
    "\n",
    "item1.setLayout(layout1)\n",
    "label = QLabel(\"This is my first time making an application!!\")\n",
    "\n",
    "button = QPushButton(\"push me\")\n",
    "button.clicked.connect(click)\n",
    "layout = QGridLayout()\n",
    "layout.addWidget(label,0,0)\n",
    "layout.addWidget(button,0,1)\n",
    "layout.addWidget(item1,1,0)\n",
    "window.setLayout(layout)\n",
    "window.show()\n",
    "sys.exit(app.exec_())"
   ]
  },
  {
   "cell_type": "code",
   "execution_count": 1,
   "id": "3765730c",
   "metadata": {},
   "outputs": [],
   "source": [
    "import sys\n",
    "from PyQt5.QtWidgets import *\n",
    "import mysql.connector"
   ]
  },
  {
   "cell_type": "code",
   "execution_count": 2,
   "id": "99f04908",
   "metadata": {},
   "outputs": [],
   "source": [
    "app = QApplication(sys.argv)"
   ]
  },
  {
   "cell_type": "code",
   "execution_count": 3,
   "id": "74de5bf1",
   "metadata": {},
   "outputs": [],
   "source": [
    "db_config = {\n",
    "    \"host\" : \"localhost\",\n",
    "    \"user\" : \"root\",\n",
    "    \"password\" : \"\",\n",
    "    \"database\" : \"shopping_app\"\n",
    "}"
   ]
  },
  {
   "cell_type": "code",
   "execution_count": 4,
   "id": "6a65c90d",
   "metadata": {},
   "outputs": [],
   "source": [
    "def create_database():\n",
    "    connection = mysql.connector.connect(**db_config)\n",
    "    cursor = connection.cursor()\n",
    "    cursor.execute(\"CREATE DATABASE IF NOT EXISTS shopping_app\")\n",
    "    cursor.execute(\"\"\"CREATE TABLE IF NOT EXISTS customer_info(\n",
    "                  id INT AUTO_INCREMENT PRIMARY KEY,\n",
    "                  name VARCHAR(100) NOT NULL)\"\"\")\n",
    "    connection.close()    "
   ]
  },
  {
   "cell_type": "code",
   "execution_count": 5,
   "id": "f40c44b4",
   "metadata": {},
   "outputs": [],
   "source": [
    "def add():\n",
    "    name = field.text()\n",
    "    if not name:\n",
    "        QMessageBox.warning(window, \"no name\", \"You have not entered any name. Please Enter your name!!\")\n",
    "    connection = mysql.connector.connect(**db_config)\n",
    "    cursor = connection.cursor()\n",
    "    cursor.execute(\"\"\"INSERT INTO customer_info(name) VALUES(%s) \"\"\",(name,))\n",
    "    \n",
    "    connection.commit()\n",
    "    connection.close()\n",
    "    \n",
    "    \n",
    "    QMessageBox.information(window, \"data added\" ,\"Your data has been executed successfully!!\")"
   ]
  },
  {
   "cell_type": "code",
   "execution_count": 6,
   "id": "2eef3ec5",
   "metadata": {},
   "outputs": [],
   "source": [
    "window = QWidget()\n",
    "window.setWindowTitle(\"Parctice\")\n",
    "window.setGeometry(300,300,300,300)"
   ]
  },
  {
   "cell_type": "code",
   "execution_count": 7,
   "id": "d3deba8e",
   "metadata": {},
   "outputs": [],
   "source": [
    "layout = QVBoxLayout()\n"
   ]
  },
  {
   "cell_type": "code",
   "execution_count": 8,
   "id": "67c3d699",
   "metadata": {},
   "outputs": [
    {
     "data": {
      "text/plain": [
       "<PyQt5.QtCore.QMetaObject.Connection at 0x26ff5174eb0>"
      ]
     },
     "execution_count": 8,
     "metadata": {},
     "output_type": "execute_result"
    }
   ],
   "source": [
    "label = QLabel(\"Enter your name in the given field\")\n",
    "field = QLineEdit()\n",
    "field.setPlaceholderText(\"name\")\n",
    "button = QPushButton(\"Enter\")\n",
    "button.clicked.connect(add)"
   ]
  },
  {
   "cell_type": "code",
   "execution_count": 9,
   "id": "946b02e3",
   "metadata": {},
   "outputs": [],
   "source": [
    "layout.addWidget(label)\n",
    "layout.addWidget(field)\n",
    "layout.addWidget(button)"
   ]
  },
  {
   "cell_type": "code",
   "execution_count": 11,
   "id": "17e5dad3",
   "metadata": {},
   "outputs": [
    {
     "ename": "SystemExit",
     "evalue": "0",
     "output_type": "error",
     "traceback": [
      "An exception has occurred, use %tb to see the full traceback.\n",
      "\u001b[1;31mSystemExit\u001b[0m\u001b[1;31m:\u001b[0m 0\n"
     ]
    }
   ],
   "source": [
    "window.setLayout(layout)\n",
    "window.show()\n",
    "create_database()\n",
    "sys.exit(app.exec_())"
   ]
  }
 ],
 "metadata": {
  "kernelspec": {
   "display_name": "Python 3 (ipykernel)",
   "language": "python",
   "name": "python3"
  },
  "language_info": {
   "codemirror_mode": {
    "name": "ipython",
    "version": 3
   },
   "file_extension": ".py",
   "mimetype": "text/x-python",
   "name": "python",
   "nbconvert_exporter": "python",
   "pygments_lexer": "ipython3",
   "version": "3.11.4"
  }
 },
 "nbformat": 4,
 "nbformat_minor": 5
}
